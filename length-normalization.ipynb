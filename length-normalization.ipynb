{
 "cells": [
  {
   "cell_type": "markdown",
   "source": [
    "# Length normalization"
   ],
   "metadata": {
    "collapsed": false
   },
   "id": "e35da283d5337f07"
  },
  {
   "cell_type": "code",
   "execution_count": 1,
   "outputs": [],
   "source": [
    "import os\n",
    "import numpy as np\n",
    "import matplotlib.pyplot as plt"
   ],
   "metadata": {
    "collapsed": false,
    "ExecuteTime": {
     "end_time": "2024-11-02T16:12:51.211787Z",
     "start_time": "2024-11-02T16:12:50.059699800Z"
    }
   },
   "id": "32ff1ba1ce7ace62"
  },
  {
   "cell_type": "code",
   "execution_count": 2,
   "outputs": [],
   "source": [
    "# loading data and computing min, max and avg of lengths\n",
    "\n",
    "test_lengths = []\n",
    "train_lengths = []\n",
    "\n",
    "for file in os.listdir(os.path.join('data', 'train')):\n",
    "    f = open(os.path.join('data', 'train', file), 'r')\n",
    "    content = f.read().split()\n",
    "    train_lengths.append(len(content))\n",
    "\n",
    "for file in os.listdir(os.path.join('data', 'test')):\n",
    "    f = open(os.path.join('data', 'test', file), 'r')\n",
    "    content = f.read().split()\n",
    "    test_lengths.append(len(content))\n",
    "train_min = min(train_lengths)\n",
    "train_max = max(train_lengths)\n",
    "train_avg = np.mean(train_lengths)\n",
    "\n",
    "test_min = min(test_lengths)\n",
    "test_max = max(test_lengths)\n",
    "test_avg = np.mean(test_lengths)\n"
   ],
   "metadata": {
    "collapsed": false,
    "ExecuteTime": {
     "end_time": "2024-11-02T16:12:57.281080900Z",
     "start_time": "2024-11-02T16:12:55.595956100Z"
    }
   },
   "id": "681d56e68f0c158"
  },
  {
   "cell_type": "code",
   "execution_count": 3,
   "outputs": [
    {
     "name": "stdout",
     "output_type": "stream",
     "text": [
      "--- TRAIN ---\n",
      "Min: 145\n",
      "Max: 153\n",
      "Average: 149.876\n",
      "\n",
      "--- TEST ---\n",
      "Min: 146\n",
      "Max: 153\n",
      "Average: 149.9\n"
     ]
    }
   ],
   "source": [
    "print(\"--- TRAIN ---\")\n",
    "print(f\"Min: {train_min}\\nMax: {train_max}\\nAverage: {train_avg}\\n\")\n",
    "\n",
    "print(\"--- TEST ---\")\n",
    "print(f\"Min: {test_min}\\nMax: {test_max}\\nAverage: {test_avg}\\n\")"
   ],
   "metadata": {
    "collapsed": false,
    "ExecuteTime": {
     "end_time": "2024-11-02T16:13:03.111694900Z",
     "start_time": "2024-11-02T16:13:03.075770700Z"
    }
   },
   "id": "26eab8c9d33f9210"
  },
  {
   "cell_type": "code",
   "execution_count": 15,
   "outputs": [
    {
     "data": {
      "text/plain": "<Figure size 800x550 with 2 Axes>",
      "image/png": "[encoded data removed]"
     },
     "metadata": {},
     "output_type": "display_data"
    }
   ],
   "source": [
    "# histograms of lengths\n",
    "\n",
    "plt.style.use('seaborn-v0_8')\n",
    "\n",
    "fig, (ax1, ax2) = plt.subplots(1, 2, sharex=True)\n",
    "ax1.hist(train_lengths, bins = train_max-train_min+1)\n",
    "ax1.set_title('Train')\n",
    "ax2.hist(test_lengths, bins = test_max-test_min+1)\n",
    "ax2.set_title('Test')\n",
    "fig.suptitle('Signal lengths histogram')\n",
    "\n",
    "# plt.savefig('length_histograms.png')\n",
    "plt.show()"
   ],
   "metadata": {
    "collapsed": false,
    "ExecuteTime": {
     "end_time": "2024-11-02T16:29:39.633686800Z",
     "start_time": "2024-11-02T16:29:39.401477900Z"
    }
   },
   "id": "41d1931ecb3c6376"
  },
  {
   "cell_type": "code",
   "execution_count": 5,
   "outputs": [],
   "source": [
    "# function to copy the data and normalize the data by slicing it at a point or adding trailing 0s\n",
    "\n",
    "def normalize_data_length(length, method='shorten'):\n",
    "    \n",
    "    test_train = ['train', 'test']\n",
    "    \n",
    "    for main in ['data_long', 'data_short']:\n",
    "        os.makedirs(main, exist_ok=True)\n",
    "        for sub in test_train:\n",
    "            os.makedirs(os.path.join(main, sub), exist_ok=True)\n",
    "    \n",
    "    for group in test_train:\n",
    "        for file_name in os.listdir(os.path.join('data', group)):\n",
    "            from_file = open(os.path.join('data', group, file_name), 'r')\n",
    "            to_file = None\n",
    "            content = from_file.read().split()\n",
    "            \n",
    "            if method == 'shorten':\n",
    "                content = content[:length]\n",
    "                to_file = open(os.path.join('data_short', group, file_name), 'w')\n",
    "            elif method == 'lengthen':\n",
    "                content.extend(['0,0,0'] * (length - len(content)))\n",
    "                to_file = open(os.path.join('data_long', group, file_name), 'w')\n",
    "            for line in content:\n",
    "                to_file.write(line + '\\n')\n",
    "    \n",
    "    "
   ],
   "metadata": {
    "collapsed": false,
    "ExecuteTime": {
     "end_time": "2024-11-02T16:13:54.413007900Z",
     "start_time": "2024-11-02T16:13:54.396534200Z"
    }
   },
   "id": "e5e898be673db86e"
  },
  {
   "cell_type": "code",
   "execution_count": 6,
   "outputs": [],
   "source": [
    "normalize_data_length(145, 'shorten')\n",
    "normalize_data_length(153, 'lengthen')"
   ],
   "metadata": {
    "collapsed": false,
    "ExecuteTime": {
     "end_time": "2024-10-27T13:15:37.463222100Z",
     "start_time": "2024-10-27T13:15:34.677367900Z"
    }
   },
   "id": "f25f040c6af48843"
  }
 ],
 "metadata": {
  "kernelspec": {
   "display_name": "Python 3",
   "language": "python",
   "name": "python3"
  },
  "language_info": {
   "codemirror_mode": {
    "name": "ipython",
    "version": 2
   },
   "file_extension": ".py",
   "mimetype": "text/x-python",
   "name": "python",
   "nbconvert_exporter": "python",
   "pygments_lexer": "ipython2",
   "version": "2.7.6"
  }
 },
 "nbformat": 4,
 "nbformat_minor": 5
}
